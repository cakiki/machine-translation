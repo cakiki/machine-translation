{
 "cells": [
  {
   "cell_type": "code",
   "execution_count": 1,
   "metadata": {},
   "outputs": [
    {
     "data": {
      "text/html": [
       "<style>.container { width:95% !important; }</style>"
      ],
      "text/plain": [
       "<IPython.core.display.HTML object>"
      ]
     },
     "metadata": {},
     "output_type": "display_data"
    }
   ],
   "source": [
    "from IPython.core.display import display, HTML, Image\n",
    "display(HTML(\"<style>.container { width:95% !important; }</style>\"))\n",
    "%config IPCompleter.use_jedi=False"
   ]
  },
  {
   "cell_type": "code",
   "execution_count": 3,
   "metadata": {},
   "outputs": [],
   "source": [
    "import pandas as pd"
   ]
  },
  {
   "cell_type": "code",
   "execution_count": 10,
   "metadata": {},
   "outputs": [],
   "source": [
    "file_1 = '../data/external/torontobookcorpus/books_large_p1.txt'\n",
    "file_2 = '../data/external/torontobookcorpus/books_large_p2.txt'"
   ]
  },
  {
   "cell_type": "code",
   "execution_count": 50,
   "metadata": {},
   "outputs": [],
   "source": [
    "# https://github.com/huggingface/datasets/blob/master/datasets/bookcorpus/bookcorpus.py\n",
    "def gen_data():\n",
    "    ix = 0\n",
    "    for file in [file_1, file_2]:\n",
    "        with open(file, mode=\"r\", encoding=\"utf-8\") as f:\n",
    "            for line in f:\n",
    "                yield {'ix':ix, \"text\": line.strip()}\n",
    "                ix += 1"
   ]
  },
  {
   "cell_type": "code",
   "execution_count": 51,
   "metadata": {},
   "outputs": [
    {
     "name": "stdout",
     "output_type": "stream",
     "text": [
      "CPU times: user 2min 30s, sys: 7.81 s, total: 2min 38s\n",
      "Wall time: 2min 38s\n"
     ]
    }
   ],
   "source": [
    "%%time\n",
    "d = gen_data()\n",
    "corpus = pd.DataFrame(d)"
   ]
  },
  {
   "cell_type": "code",
   "execution_count": 70,
   "metadata": {},
   "outputs": [
    {
     "name": "stdout",
     "output_type": "stream",
     "text": [
      "CPU times: user 26.1 s, sys: 2.84 s, total: 29 s\n",
      "Wall time: 29.7 s\n"
     ]
    }
   ],
   "source": [
    "%%time\n",
    "corpus[['text']].to_parquet('../data/processed/torontobookcorpus/corpus.parquet')"
   ]
  },
  {
   "cell_type": "code",
   "execution_count": 63,
   "metadata": {},
   "outputs": [
    {
     "data": {
      "text/html": [
       "<div>\n",
       "<style scoped>\n",
       "    .dataframe tbody tr th:only-of-type {\n",
       "        vertical-align: middle;\n",
       "    }\n",
       "\n",
       "    .dataframe tbody tr th {\n",
       "        vertical-align: top;\n",
       "    }\n",
       "\n",
       "    .dataframe thead th {\n",
       "        text-align: right;\n",
       "    }\n",
       "</style>\n",
       "<table border=\"1\" class=\"dataframe\">\n",
       "  <thead>\n",
       "    <tr style=\"text-align: right;\">\n",
       "      <th></th>\n",
       "      <th>text</th>\n",
       "    </tr>\n",
       "  </thead>\n",
       "  <tbody>\n",
       "    <tr>\n",
       "      <th>0</th>\n",
       "      <td>the half-ling book one in the fall of igneeria...</td>\n",
       "    </tr>\n",
       "    <tr>\n",
       "      <th>1</th>\n",
       "      <td>isbn : 1492913731 isbn-13 : 978-1492913733 for...</td>\n",
       "    </tr>\n",
       "    <tr>\n",
       "      <th>2</th>\n",
       "      <td>i wish i had a better answer to that question .</td>\n",
       "    </tr>\n",
       "    <tr>\n",
       "      <th>3</th>\n",
       "      <td>starlings , new york is not the place youd exp...</td>\n",
       "    </tr>\n",
       "    <tr>\n",
       "      <th>4</th>\n",
       "      <td>its a small quiet town , the kind where everyo...</td>\n",
       "    </tr>\n",
       "    <tr>\n",
       "      <th>...</th>\n",
       "      <td>...</td>\n",
       "    </tr>\n",
       "    <tr>\n",
       "      <th>74004223</th>\n",
       "      <td>he crawled up my body to kiss me .</td>\n",
       "    </tr>\n",
       "    <tr>\n",
       "      <th>74004224</th>\n",
       "      <td>`` and you 're the best husband ever .</td>\n",
       "    </tr>\n",
       "    <tr>\n",
       "      <th>74004225</th>\n",
       "      <td>now , make me scream your name again . ''</td>\n",
       "    </tr>\n",
       "    <tr>\n",
       "      <th>74004226</th>\n",
       "      <td>no regrets in love .</td>\n",
       "    </tr>\n",
       "    <tr>\n",
       "      <th>74004227</th>\n",
       "      <td>ever .</td>\n",
       "    </tr>\n",
       "  </tbody>\n",
       "</table>\n",
       "<p>74004228 rows × 1 columns</p>\n",
       "</div>"
      ],
      "text/plain": [
       "                                                       text\n",
       "0         the half-ling book one in the fall of igneeria...\n",
       "1         isbn : 1492913731 isbn-13 : 978-1492913733 for...\n",
       "2           i wish i had a better answer to that question .\n",
       "3         starlings , new york is not the place youd exp...\n",
       "4         its a small quiet town , the kind where everyo...\n",
       "...                                                     ...\n",
       "74004223                 he crawled up my body to kiss me .\n",
       "74004224             `` and you 're the best husband ever .\n",
       "74004225          now , make me scream your name again . ''\n",
       "74004226                               no regrets in love .\n",
       "74004227                                             ever .\n",
       "\n",
       "[74004228 rows x 1 columns]"
      ]
     },
     "execution_count": 63,
     "metadata": {},
     "output_type": "execute_result"
    }
   ],
   "source": [
    "corpus[['text']]"
   ]
  },
  {
   "cell_type": "code",
   "execution_count": 69,
   "metadata": {},
   "outputs": [
    {
     "data": {
      "text/plain": [
       "74004128             i ca n't believe it 's already here . ''\n",
       "74004129    i streaked over to her bedside and looked down...\n",
       "74004130    i still could n't believe they chose to not fi...\n",
       "74004131                                         `` tell me .\n",
       "74004132                                     boy or girl ? ''\n",
       "                                  ...                        \n",
       "74004223                   he crawled up my body to kiss me .\n",
       "74004224               `` and you 're the best husband ever .\n",
       "74004225            now , make me scream your name again . ''\n",
       "74004226                                 no regrets in love .\n",
       "74004227                                               ever .\n",
       "Name: text, Length: 100, dtype: object"
      ]
     },
     "execution_count": 69,
     "metadata": {},
     "output_type": "execute_result"
    }
   ],
   "source": [
    "corpus.tail(100)['text']"
   ]
  },
  {
   "cell_type": "code",
   "execution_count": 61,
   "metadata": {},
   "outputs": [
    {
     "name": "stdout",
     "output_type": "stream",
     "text": [
      "CPU times: user 31.6 s, sys: 7.13 s, total: 38.7 s\n",
      "Wall time: 36 s\n"
     ]
    }
   ],
   "source": [
    "%%time\n",
    "df = pd.read_parquet('../data/processed/torontobookcorpus/corpus.parquet')"
   ]
  },
  {
   "cell_type": "code",
   "execution_count": 62,
   "metadata": {},
   "outputs": [
    {
     "data": {
      "text/html": [
       "<div>\n",
       "<style scoped>\n",
       "    .dataframe tbody tr th:only-of-type {\n",
       "        vertical-align: middle;\n",
       "    }\n",
       "\n",
       "    .dataframe tbody tr th {\n",
       "        vertical-align: top;\n",
       "    }\n",
       "\n",
       "    .dataframe thead th {\n",
       "        text-align: right;\n",
       "    }\n",
       "</style>\n",
       "<table border=\"1\" class=\"dataframe\">\n",
       "  <thead>\n",
       "    <tr style=\"text-align: right;\">\n",
       "      <th></th>\n",
       "      <th>ix</th>\n",
       "      <th>text</th>\n",
       "    </tr>\n",
       "  </thead>\n",
       "  <tbody>\n",
       "    <tr>\n",
       "      <th>0</th>\n",
       "      <td>0</td>\n",
       "      <td>the half-ling book one in the fall of igneeria...</td>\n",
       "    </tr>\n",
       "    <tr>\n",
       "      <th>1</th>\n",
       "      <td>1</td>\n",
       "      <td>isbn : 1492913731 isbn-13 : 978-1492913733 for...</td>\n",
       "    </tr>\n",
       "    <tr>\n",
       "      <th>2</th>\n",
       "      <td>2</td>\n",
       "      <td>i wish i had a better answer to that question .</td>\n",
       "    </tr>\n",
       "    <tr>\n",
       "      <th>3</th>\n",
       "      <td>3</td>\n",
       "      <td>starlings , new york is not the place youd exp...</td>\n",
       "    </tr>\n",
       "    <tr>\n",
       "      <th>4</th>\n",
       "      <td>4</td>\n",
       "      <td>its a small quiet town , the kind where everyo...</td>\n",
       "    </tr>\n",
       "  </tbody>\n",
       "</table>\n",
       "</div>"
      ],
      "text/plain": [
       "   ix                                               text\n",
       "0   0  the half-ling book one in the fall of igneeria...\n",
       "1   1  isbn : 1492913731 isbn-13 : 978-1492913733 for...\n",
       "2   2    i wish i had a better answer to that question .\n",
       "3   3  starlings , new york is not the place youd exp...\n",
       "4   4  its a small quiet town , the kind where everyo..."
      ]
     },
     "execution_count": 62,
     "metadata": {},
     "output_type": "execute_result"
    }
   ],
   "source": [
    "df.head()"
   ]
  },
  {
   "cell_type": "code",
   "execution_count": null,
   "metadata": {},
   "outputs": [],
   "source": []
  }
 ],
 "metadata": {
  "kernelspec": {
   "display_name": "Python 3",
   "language": "python",
   "name": "python3"
  },
  "language_info": {
   "codemirror_mode": {
    "name": "ipython",
    "version": 3
   },
   "file_extension": ".py",
   "mimetype": "text/x-python",
   "name": "python",
   "nbconvert_exporter": "python",
   "pygments_lexer": "ipython3",
   "version": "3.6.9"
  }
 },
 "nbformat": 4,
 "nbformat_minor": 2
}
