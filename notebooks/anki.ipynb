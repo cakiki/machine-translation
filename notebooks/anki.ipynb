{
 "cells": [
  {
   "cell_type": "code",
   "execution_count": 1,
   "metadata": {},
   "outputs": [
    {
     "data": {
      "text/html": [
       "<style>.container { width:95% !important; }</style>"
      ],
      "text/plain": [
       "<IPython.core.display.HTML object>"
      ]
     },
     "metadata": {},
     "output_type": "display_data"
    }
   ],
   "source": [
    "from IPython.core.display import HTML\n",
    "display(HTML(\"<style>.container { width:95% !important; }</style>\"))\n",
    "%config IPCompleter.use_jedi=False"
   ]
  },
  {
   "cell_type": "code",
   "execution_count": 5,
   "metadata": {},
   "outputs": [
    {
     "name": "stdout",
     "output_type": "stream",
     "text": [
      "\u001b[33mWARNING: You are using pip version 20.2.4; however, version 21.1.2 is available.\r\n",
      "You should consider upgrading via the '/usr/bin/python3 -m pip install --upgrade pip' command.\u001b[0m\r\n"
     ]
    }
   ],
   "source": [
    "!pip install -q markovify"
   ]
  },
  {
   "cell_type": "code",
   "execution_count": 15,
   "metadata": {},
   "outputs": [],
   "source": [
    "import nltk\n",
    "from nltk.tokenize import word_tokenize\n",
    "from nltk.translate.ibm1 import IBMModel1\n",
    "from nltk.translate import AlignedSent, Alignment\n",
    "import markovify"
   ]
  },
  {
   "cell_type": "code",
   "execution_count": 3,
   "metadata": {},
   "outputs": [
    {
     "name": "stderr",
     "output_type": "stream",
     "text": [
      "[nltk_data] Downloading package punkt to /root/nltk_data...\n",
      "[nltk_data]   Unzipping tokenizers/punkt.zip.\n"
     ]
    },
    {
     "data": {
      "text/plain": [
       "True"
      ]
     },
     "execution_count": 3,
     "metadata": {},
     "output_type": "execute_result"
    }
   ],
   "source": [
    "nltk.download('punkt')"
   ]
  },
  {
   "cell_type": "code",
   "execution_count": 7,
   "metadata": {},
   "outputs": [],
   "source": [
    "corpus = []\n",
    "with open('../data/raw/anki/fra-eng/fra.txt', 'r', encoding='utf8') as f:\n",
    "    for line in f.readlines():\n",
    "        corpus.append(line.lower()) #TODO: Try True-casing instead of lower-casing (frequency-based winner-takes-all)"
   ]
  },
  {
   "cell_type": "code",
   "execution_count": 8,
   "metadata": {},
   "outputs": [
    {
     "data": {
      "text/plain": [
       "189114"
      ]
     },
     "execution_count": 8,
     "metadata": {},
     "output_type": "execute_result"
    }
   ],
   "source": [
    "len(corpus)"
   ]
  },
  {
   "cell_type": "code",
   "execution_count": 9,
   "metadata": {},
   "outputs": [
    {
     "name": "stdout",
     "output_type": "stream",
     "text": [
      "CPU times: user 42.9 s, sys: 81.1 ms, total: 42.9 s\n",
      "Wall time: 42.9 s\n"
     ]
    }
   ],
   "source": [
    "%%time\n",
    "en_fr = [entry.split('\\t')[:2] for entry in corpus]\n",
    "en, fr = zip(*en_fr)\n",
    "en_tokenized = [word_tokenize(sentence, language='english') for sentence in en]\n",
    "fr_tokenized = [word_tokenize(sentence, language='french') for sentence in fr]"
   ]
  },
  {
   "cell_type": "code",
   "execution_count": 10,
   "metadata": {},
   "outputs": [
    {
     "name": "stdout",
     "output_type": "stream",
     "text": [
      "CPU times: user 10.2 s, sys: 191 ms, total: 10.4 s\n",
      "Wall time: 10.4 s\n"
     ]
    }
   ],
   "source": [
    "%%time\n",
    "en_model = markovify.NewlineText('\\n'.join(en), state_size=5)\n",
    "fr_model = markovify.NewlineText('\\n'.join(fr), state_size=5)"
   ]
  },
  {
   "cell_type": "code",
   "execution_count": 13,
   "metadata": {},
   "outputs": [
    {
     "name": "stdout",
     "output_type": "stream",
     "text": [
      "i've already drunk half a bottle of wine while i was waiting for the streetcar, i witnessed a traffic accident.\n",
      "i want you to know that i won't be able to help you on monday.\n",
      "she was advised by him to go abroad while he was still young.\n",
      "if he keeps threatening you, then you should go to the dentist and have that tooth pulled out.\n",
      "i told you i don't know how to talk to kids.\n"
     ]
    }
   ],
   "source": [
    "for i in range(5):\n",
    "    print(en_model.make_sentence(tries=1000))"
   ]
  },
  {
   "cell_type": "code",
   "execution_count": 12,
   "metadata": {},
   "outputs": [
    {
     "name": "stdout",
     "output_type": "stream",
     "text": [
      "dis-moi juste que ça ne va pas être beau à voir.\n",
      "je ne me sens pas bien aujourd'hui et je préfère rester à la maison plutôt que de sortir sous la pluie.\n",
      "je peux assez bien lire le chinois mais je ne parviens pas à me rappeler l'endroit où j'ai caché mon argent.\n",
      "je sais que vous êtes occupés, mais est-ce que je peux te parler en privé ?\n",
      "dis à tom que je ne suis pas quelqu'un de patient.\n"
     ]
    }
   ],
   "source": [
    "for i in range(5):\n",
    "    print(fr_model.make_sentence(tries=1000))"
   ]
  },
  {
   "cell_type": "code",
   "execution_count": 110,
   "metadata": {},
   "outputs": [],
   "source": [
    "#TODO: https://github.com/nltk/nltk/blob/develop/nltk/lm/__init__.py"
   ]
  },
  {
   "cell_type": "code",
   "execution_count": 58,
   "metadata": {},
   "outputs": [
    {
     "name": "stdout",
     "output_type": "stream",
     "text": [
      "CPU times: user 1.37 s, sys: 52.2 ms, total: 1.42 s\n",
      "Wall time: 1.42 s\n"
     ]
    }
   ],
   "source": [
    "%%time\n",
    "bitext = []\n",
    "for fr, en in zip(fr_tokenized, en_tokenized):\n",
    "    bitext.append(AlignedSent(fr, en))"
   ]
  },
  {
   "cell_type": "code",
   "execution_count": 59,
   "metadata": {},
   "outputs": [
    {
     "name": "stdout",
     "output_type": "stream",
     "text": [
      "CPU times: user 3min 21s, sys: 103 ms, total: 3min 21s\n",
      "Wall time: 3min 21s\n"
     ]
    }
   ],
   "source": [
    "%%time\n",
    "ibm1 = IBMModel1(bitext, 10)"
   ]
  },
  {
   "cell_type": "code",
   "execution_count": 61,
   "metadata": {},
   "outputs": [
    {
     "data": {
      "image/svg+xml": [
       "<?xml version=\"1.0\" encoding=\"UTF-8\" standalone=\"no\"?>\n",
       "<!DOCTYPE svg PUBLIC \"-//W3C//DTD SVG 1.1//EN\"\n",
       " \"http://www.w3.org/Graphics/SVG/1.1/DTD/svg11.dtd\">\n",
       "<!-- Generated by graphviz version 2.40.1 (20161225.0304)\n",
       " -->\n",
       "<!-- Title: align Pages: 1 -->\n",
       "<svg width=\"756pt\" height=\"116pt\"\n",
       " viewBox=\"0.00 0.00 756.00 116.00\" xmlns=\"http://www.w3.org/2000/svg\" xmlns:xlink=\"http://www.w3.org/1999/xlink\">\n",
       "<g id=\"graph0\" class=\"graph\" transform=\"scale(1 1) rotate(0) translate(4 112)\">\n",
       "<title>align</title>\n",
       "<polygon fill=\"#ffffff\" stroke=\"transparent\" points=\"-4,4 -4,-112 752,-112 752,4 -4,4\"/>\n",
       "<!-- c&#39;est_source -->\n",
       "<g id=\"node1\" class=\"node\">\n",
       "<title>c&#39;est_source</title>\n",
       "<text text-anchor=\"middle\" x=\"97\" y=\"-86.3\" font-family=\"Times,serif\" font-size=\"14.00\" fill=\"#000000\">c&#39;est</text>\n",
       "</g>\n",
       "<!-- dommage_source -->\n",
       "<g id=\"node2\" class=\"node\">\n",
       "<title>dommage_source</title>\n",
       "<text text-anchor=\"middle\" x=\"185\" y=\"-86.3\" font-family=\"Times,serif\" font-size=\"14.00\" fill=\"#000000\">dommage</text>\n",
       "</g>\n",
       "<!-- c&#39;est_source&#45;&#45;dommage_source -->\n",
       "<!-- is_target -->\n",
       "<g id=\"node11\" class=\"node\">\n",
       "<title>is_target</title>\n",
       "<text text-anchor=\"middle\" x=\"99\" y=\"-14.3\" font-family=\"Times,serif\" font-size=\"14.00\" fill=\"#000000\">is</text>\n",
       "</g>\n",
       "<!-- c&#39;est_source&#45;&#45;is_target -->\n",
       "<g id=\"edge1\" class=\"edge\">\n",
       "<title>c&#39;est_source&#45;&#45;is_target</title>\n",
       "<path fill=\"none\" stroke=\"#000000\" d=\"M97.5047,-71.8314C97.8056,-61 98.1865,-47.2876 98.4885,-36.4133\"/>\n",
       "</g>\n",
       "<!-- que_source -->\n",
       "<g id=\"node3\" class=\"node\">\n",
       "<title>que_source</title>\n",
       "<text text-anchor=\"middle\" x=\"273\" y=\"-86.3\" font-family=\"Times,serif\" font-size=\"14.00\" fill=\"#000000\">que</text>\n",
       "</g>\n",
       "<!-- dommage_source&#45;&#45;que_source -->\n",
       "<!-- pity_target -->\n",
       "<g id=\"node13\" class=\"node\">\n",
       "<title>pity_target</title>\n",
       "<text text-anchor=\"middle\" x=\"253\" y=\"-14.3\" font-family=\"Times,serif\" font-size=\"14.00\" fill=\"#000000\">pity</text>\n",
       "</g>\n",
       "<!-- dommage_source&#45;&#45;pity_target -->\n",
       "<g id=\"edge2\" class=\"edge\">\n",
       "<title>dommage_source&#45;&#45;pity_target</title>\n",
       "<path fill=\"none\" stroke=\"#000000\" d=\"M202.1593,-71.8314C212.3889,-61 225.3395,-47.2876 235.6097,-36.4133\"/>\n",
       "</g>\n",
       "<!-- tu_source -->\n",
       "<g id=\"node4\" class=\"node\">\n",
       "<title>tu_source</title>\n",
       "<text text-anchor=\"middle\" x=\"345\" y=\"-86.3\" font-family=\"Times,serif\" font-size=\"14.00\" fill=\"#000000\">tu</text>\n",
       "</g>\n",
       "<!-- que_source&#45;&#45;tu_source -->\n",
       "<!-- you_target -->\n",
       "<g id=\"node14\" class=\"node\">\n",
       "<title>you_target</title>\n",
       "<text text-anchor=\"middle\" x=\"329\" y=\"-14.3\" font-family=\"Times,serif\" font-size=\"14.00\" fill=\"#000000\">you</text>\n",
       "</g>\n",
       "<!-- que_source&#45;&#45;you_target -->\n",
       "<g id=\"edge8\" class=\"edge\">\n",
       "<title>que_source&#45;&#45;you_target</title>\n",
       "<path fill=\"none\" stroke=\"#000000\" d=\"M287.1312,-71.8314C295.5555,-61 306.2208,-47.2876 314.6786,-36.4133\"/>\n",
       "</g>\n",
       "<!-- ne_source -->\n",
       "<g id=\"node5\" class=\"node\">\n",
       "<title>ne_source</title>\n",
       "<text text-anchor=\"middle\" x=\"417\" y=\"-86.3\" font-family=\"Times,serif\" font-size=\"14.00\" fill=\"#000000\">ne</text>\n",
       "</g>\n",
       "<!-- tu_source&#45;&#45;ne_source -->\n",
       "<!-- tu_source&#45;&#45;you_target -->\n",
       "<g id=\"edge7\" class=\"edge\">\n",
       "<title>tu_source&#45;&#45;you_target</title>\n",
       "<path fill=\"none\" stroke=\"#000000\" d=\"M340.9625,-71.8314C338.5556,-61 335.5084,-47.2876 333.0918,-36.4133\"/>\n",
       "</g>\n",
       "<!-- puisses_source -->\n",
       "<g id=\"node6\" class=\"node\">\n",
       "<title>puisses_source</title>\n",
       "<text text-anchor=\"middle\" x=\"497\" y=\"-86.3\" font-family=\"Times,serif\" font-size=\"14.00\" fill=\"#000000\">puisses</text>\n",
       "</g>\n",
       "<!-- ne_source&#45;&#45;puisses_source -->\n",
       "<!-- not_target -->\n",
       "<g id=\"node16\" class=\"node\">\n",
       "<title>not_target</title>\n",
       "<text text-anchor=\"middle\" x=\"550\" y=\"-14.3\" font-family=\"Times,serif\" font-size=\"14.00\" fill=\"#000000\">not</text>\n",
       "</g>\n",
       "<!-- ne_source&#45;&#45;not_target -->\n",
       "<g id=\"edge3\" class=\"edge\">\n",
       "<title>ne_source&#45;&#45;not_target</title>\n",
       "<path fill=\"none\" stroke=\"#000000\" d=\"M444.2355,-75.256C467.1868,-62.8312 499.8599,-45.1435 522.8009,-32.7243\"/>\n",
       "</g>\n",
       "<!-- pas_source -->\n",
       "<g id=\"node7\" class=\"node\">\n",
       "<title>pas_source</title>\n",
       "<text text-anchor=\"middle\" x=\"577\" y=\"-86.3\" font-family=\"Times,serif\" font-size=\"14.00\" fill=\"#000000\">pas</text>\n",
       "</g>\n",
       "<!-- puisses_source&#45;&#45;pas_source -->\n",
       "<!-- puisses_source&#45;&#45;pity_target -->\n",
       "<g id=\"edge9\" class=\"edge\">\n",
       "<title>puisses_source&#45;&#45;pity_target</title>\n",
       "<path fill=\"none\" stroke=\"#000000\" d=\"M461.6451,-74.9434C458.7415,-73.8886 455.8342,-72.8917 453,-72 383.4711,-50.1247 362.1408,-59.0726 293,-36 288.8103,-34.6019 284.4659,-32.9133 280.2518,-31.1377\"/>\n",
       "</g>\n",
       "<!-- venir_source -->\n",
       "<g id=\"node8\" class=\"node\">\n",
       "<title>venir_source</title>\n",
       "<text text-anchor=\"middle\" x=\"649\" y=\"-86.3\" font-family=\"Times,serif\" font-size=\"14.00\" fill=\"#000000\">venir</text>\n",
       "</g>\n",
       "<!-- pas_source&#45;&#45;venir_source -->\n",
       "<!-- pas_source&#45;&#45;not_target -->\n",
       "<g id=\"edge4\" class=\"edge\">\n",
       "<title>pas_source&#45;&#45;not_target</title>\n",
       "<path fill=\"none\" stroke=\"#000000\" d=\"M570.1868,-71.8314C566.125,-61 560.9828,-47.2876 556.905,-36.4133\"/>\n",
       "</g>\n",
       "<!-- ._source -->\n",
       "<g id=\"node9\" class=\"node\">\n",
       "<title>._source</title>\n",
       "<text text-anchor=\"middle\" x=\"721\" y=\"-86.3\" font-family=\"Times,serif\" font-size=\"14.00\" fill=\"#000000\">.</text>\n",
       "</g>\n",
       "<!-- venir_source&#45;&#45;._source -->\n",
       "<!-- come_target -->\n",
       "<g id=\"node17\" class=\"node\">\n",
       "<title>come_target</title>\n",
       "<text text-anchor=\"middle\" x=\"648\" y=\"-14.3\" font-family=\"Times,serif\" font-size=\"14.00\" fill=\"#000000\">come</text>\n",
       "</g>\n",
       "<!-- venir_source&#45;&#45;come_target -->\n",
       "<g id=\"edge5\" class=\"edge\">\n",
       "<title>venir_source&#45;&#45;come_target</title>\n",
       "<path fill=\"none\" stroke=\"#000000\" d=\"M648.7477,-71.8314C648.5972,-61 648.4068,-47.2876 648.2557,-36.4133\"/>\n",
       "</g>\n",
       "<!-- ._target -->\n",
       "<g id=\"node18\" class=\"node\">\n",
       "<title>._target</title>\n",
       "<text text-anchor=\"middle\" x=\"721\" y=\"-14.3\" font-family=\"Times,serif\" font-size=\"14.00\" fill=\"#000000\">.</text>\n",
       "</g>\n",
       "<!-- ._source&#45;&#45;._target -->\n",
       "<g id=\"edge6\" class=\"edge\">\n",
       "<title>._source&#45;&#45;._target</title>\n",
       "<path fill=\"none\" stroke=\"#000000\" d=\"M721,-71.8314C721,-61 721,-47.2876 721,-36.4133\"/>\n",
       "</g>\n",
       "<!-- it_target -->\n",
       "<g id=\"node10\" class=\"node\">\n",
       "<title>it_target</title>\n",
       "<text text-anchor=\"middle\" x=\"27\" y=\"-14.3\" font-family=\"Times,serif\" font-size=\"14.00\" fill=\"#000000\">it</text>\n",
       "</g>\n",
       "<!-- it_target&#45;&#45;is_target -->\n",
       "<!-- a_target -->\n",
       "<g id=\"node12\" class=\"node\">\n",
       "<title>a_target</title>\n",
       "<text text-anchor=\"middle\" x=\"173\" y=\"-14.3\" font-family=\"Times,serif\" font-size=\"14.00\" fill=\"#000000\">a</text>\n",
       "</g>\n",
       "<!-- is_target&#45;&#45;a_target -->\n",
       "<!-- a_target&#45;&#45;pity_target -->\n",
       "<!-- pity_target&#45;&#45;you_target -->\n",
       "<!-- can_target -->\n",
       "<g id=\"node15\" class=\"node\">\n",
       "<title>can_target</title>\n",
       "<text text-anchor=\"middle\" x=\"427\" y=\"-14.3\" font-family=\"Times,serif\" font-size=\"14.00\" fill=\"#000000\">can</text>\n",
       "</g>\n",
       "<!-- you_target&#45;&#45;can_target -->\n",
       "<!-- can_target&#45;&#45;not_target -->\n",
       "<!-- not_target&#45;&#45;come_target -->\n",
       "<!-- come_target&#45;&#45;._target -->\n",
       "</g>\n",
       "</svg>\n"
      ],
      "text/plain": [
       "AlignedSent(['c'est', 'dommage', 'que', 'tu', 'ne', 'puisses', 'pas', 'venir', '.'], ['it', 'is', 'a', 'pity', 'you', 'can', 'not', 'come', '.'], Alignment([(0, 1), (1, 3), (2, 4), (3, 4), (4, 6), (5, 3), (6, 6), (7, 7), (8, 8)]))"
      ]
     },
     "execution_count": 61,
     "metadata": {},
     "output_type": "execute_result"
    }
   ],
   "source": [
    "test = bitext[100000]\n",
    "test"
   ]
  },
  {
   "cell_type": "code",
   "execution_count": 62,
   "metadata": {},
   "outputs": [
    {
     "data": {
      "text/plain": [
       "[\"c'est\", 'dommage', 'que', 'tu', 'ne', 'puisses', 'pas', 'venir', '.']"
      ]
     },
     "execution_count": 62,
     "metadata": {},
     "output_type": "execute_result"
    }
   ],
   "source": [
    "test.words"
   ]
  },
  {
   "cell_type": "code",
   "execution_count": 63,
   "metadata": {},
   "outputs": [
    {
     "data": {
      "text/plain": [
       "['it', 'is', 'a', 'pity', 'you', 'can', 'not', 'come', '.']"
      ]
     },
     "execution_count": 63,
     "metadata": {},
     "output_type": "execute_result"
    }
   ],
   "source": [
    "test.mots"
   ]
  },
  {
   "cell_type": "code",
   "execution_count": 64,
   "metadata": {},
   "outputs": [
    {
     "data": {
      "text/plain": [
       "Alignment([(0, 1), (1, 3), (2, 4), (3, 4), (4, 6), (5, 3), (6, 6), (7, 7), (8, 8)])"
      ]
     },
     "execution_count": 64,
     "metadata": {},
     "output_type": "execute_result"
    }
   ],
   "source": [
    "test.alignment"
   ]
  },
  {
   "cell_type": "code",
   "execution_count": 33,
   "metadata": {},
   "outputs": [
    {
     "data": {
      "text/plain": [
       "defaultdict(<function nltk.translate.ibm1.IBMModel1.set_uniform_probabilities.<locals>.<lambda>()>,\n",
       "            {None: 1e-12,\n",
       "             'good': 0.10694902844430497,\n",
       "             'job': 0.030056176307917612,\n",
       "             '!': 1e-12})"
      ]
     },
     "execution_count": 33,
     "metadata": {},
     "output_type": "execute_result"
    }
   ],
   "source": [
    "ibm1.translation_table['bravo']"
   ]
  },
  {
   "cell_type": "code",
   "execution_count": 57,
   "metadata": {},
   "outputs": [
    {
     "data": {
      "text/plain": [
       "[\"j'ai\", 'froncé', 'les', 'sourcils', '.']"
      ]
     },
     "execution_count": 57,
     "metadata": {},
     "output_type": "execute_result"
    }
   ],
   "source": [
    "word_tokenize(\"j'ai froncé les sourcils.\", language='french')"
   ]
  },
  {
   "cell_type": "code",
   "execution_count": 68,
   "metadata": {},
   "outputs": [],
   "source": [
    "ibm1.hillclimb?"
   ]
  },
  {
   "cell_type": "code",
   "execution_count": null,
   "metadata": {},
   "outputs": [],
   "source": []
  }
 ],
 "metadata": {
  "kernelspec": {
   "display_name": "Python 3",
   "language": "python",
   "name": "python3"
  },
  "language_info": {
   "codemirror_mode": {
    "name": "ipython",
    "version": 3
   },
   "file_extension": ".py",
   "mimetype": "text/x-python",
   "name": "python",
   "nbconvert_exporter": "python",
   "pygments_lexer": "ipython3",
   "version": "3.6.9"
  }
 },
 "nbformat": 4,
 "nbformat_minor": 2
}
