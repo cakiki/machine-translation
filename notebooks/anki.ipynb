{
 "cells": [
  {
   "cell_type": "code",
   "execution_count": 1,
   "metadata": {},
   "outputs": [
    {
     "data": {
      "text/html": [
       "<style>.container { width:95% !important; }</style>"
      ],
      "text/plain": [
       "<IPython.core.display.HTML object>"
      ]
     },
     "metadata": {},
     "output_type": "display_data"
    }
   ],
   "source": [
    "from IPython.core.display import HTML\n",
    "display(HTML(\"<style>.container { width:95% !important; }</style>\"))\n",
    "%config IPCompleter.use_jedi=False"
   ]
  },
  {
   "cell_type": "code",
   "execution_count": 66,
   "metadata": {},
   "outputs": [],
   "source": [
    "import nltk\n",
    "from nltk.tokenize import word_tokenize\n",
    "import markovify"
   ]
  },
  {
   "cell_type": "code",
   "execution_count": 41,
   "metadata": {},
   "outputs": [
    {
     "name": "stderr",
     "output_type": "stream",
     "text": [
      "[nltk_data] Downloading package punkt to /root/nltk_data...\n",
      "[nltk_data]   Unzipping tokenizers/punkt.zip.\n"
     ]
    },
    {
     "data": {
      "text/plain": [
       "True"
      ]
     },
     "execution_count": 41,
     "metadata": {},
     "output_type": "execute_result"
    }
   ],
   "source": [
    "nltk.download('punkt')"
   ]
  },
  {
   "cell_type": "code",
   "execution_count": 57,
   "metadata": {},
   "outputs": [],
   "source": [
    "corpus = []\n",
    "with open('../data/raw/anki/fra-eng/fra.txt', 'r', encoding='utf8') as f:\n",
    "    for line in f.readlines():\n",
    "        corpus.append(line.lower()) #TODO: Try True-casing instead of lower-casing (frequency-based winner-takes-all)"
   ]
  },
  {
   "cell_type": "code",
   "execution_count": 64,
   "metadata": {},
   "outputs": [
    {
     "data": {
      "text/plain": [
       "189114"
      ]
     },
     "execution_count": 64,
     "metadata": {},
     "output_type": "execute_result"
    }
   ],
   "source": [
    "len(corpus)"
   ]
  },
  {
   "cell_type": "code",
   "execution_count": 58,
   "metadata": {},
   "outputs": [
    {
     "name": "stdout",
     "output_type": "stream",
     "text": [
      "CPU times: user 42.4 s, sys: 77.9 ms, total: 42.5 s\n",
      "Wall time: 42.5 s\n"
     ]
    }
   ],
   "source": [
    "%%time\n",
    "en_fr = [entry.split('\\t')[:2] for entry in corpus]\n",
    "en, fr = zip(*en_fr)\n",
    "en_tokenized = [word_tokenize(sentence, language='english') for sentence in en]\n",
    "fr_tokenized = [word_tokenize(sentence, language='french') for sentence in fr]"
   ]
  },
  {
   "cell_type": "code",
   "execution_count": 104,
   "metadata": {},
   "outputs": [
    {
     "name": "stdout",
     "output_type": "stream",
     "text": [
      "CPU times: user 10.3 s, sys: 188 ms, total: 10.4 s\n",
      "Wall time: 10.4 s\n"
     ]
    }
   ],
   "source": [
    "%%time\n",
    "en_model = markovify.NewlineText('\\n'.join(en), state_size=6)\n",
    "fr_model = markovify.NewlineText('\\n'.join(fr), state_size=6)"
   ]
  },
  {
   "cell_type": "code",
   "execution_count": 109,
   "metadata": {},
   "outputs": [
    {
     "name": "stdout",
     "output_type": "stream",
     "text": [
      "is it okay if i ask you a few questions about what you did last weekend.\n",
      "None\n",
      "what makes you think you won't be able to do that without your help.\n",
      "None\n",
      "without me, you won't be able to do that without your help.\n"
     ]
    }
   ],
   "source": [
    "for i in range(5):\n",
    "    print(en_model.make_sentence(tries=10000))"
   ]
  },
  {
   "cell_type": "code",
   "execution_count": 108,
   "metadata": {},
   "outputs": [
    {
     "name": "stdout",
     "output_type": "stream",
     "text": [
      "je pense que ça vaut le coup de lire ce livre.\n",
      "ouais, je comprends ce que tu veux dire, mais je ne suis pas sûre de suivre ce que vous dites.\n",
      "il faisait si froid hier que je suis resté à la maison toute la journée d'hier.\n",
      "tu pourrais au moins essayer d'être un peu plus poli, même si ça ne vous ressemble pas.\n",
      "je ne comprends pas et je ne suis pas habitué à boire du café sans sucre.\n"
     ]
    }
   ],
   "source": [
    "for i in range(5):\n",
    "    print(fr_model.make_sentence(tries=10000))"
   ]
  },
  {
   "cell_type": "code",
   "execution_count": 110,
   "metadata": {},
   "outputs": [],
   "source": [
    "#TODO: https://github.com/nltk/nltk/blob/develop/nltk/lm/__init__.py"
   ]
  }
 ],
 "metadata": {
  "kernelspec": {
   "display_name": "Python 3",
   "language": "python",
   "name": "python3"
  },
  "language_info": {
   "codemirror_mode": {
    "name": "ipython",
    "version": 3
   },
   "file_extension": ".py",
   "mimetype": "text/x-python",
   "name": "python",
   "nbconvert_exporter": "python",
   "pygments_lexer": "ipython3",
   "version": "3.6.9"
  }
 },
 "nbformat": 4,
 "nbformat_minor": 2
}
