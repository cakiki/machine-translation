{
 "cells": [
  {
   "cell_type": "code",
   "execution_count": 1,
   "metadata": {},
   "outputs": [
    {
     "data": {
      "text/html": [
       "<style>.container { width:95% !important; }</style>"
      ],
      "text/plain": [
       "<IPython.core.display.HTML object>"
      ]
     },
     "metadata": {},
     "output_type": "display_data"
    }
   ],
   "source": [
    "from IPython.core.display import HTML\n",
    "display(HTML(\"<style>.container { width:95% !important; }</style>\"))\n",
    "%config IPCompleter.use_jedi=False"
   ]
  },
  {
   "cell_type": "code",
   "execution_count": 5,
   "metadata": {},
   "outputs": [
    {
     "name": "stdout",
     "output_type": "stream",
     "text": [
      "\u001b[33mWARNING: You are using pip version 20.2.4; however, version 21.1.2 is available.\r\n",
      "You should consider upgrading via the '/usr/bin/python3 -m pip install --upgrade pip' command.\u001b[0m\r\n"
     ]
    }
   ],
   "source": [
    "!pip install -q markovify"
   ]
  },
  {
   "cell_type": "code",
   "execution_count": 15,
   "metadata": {},
   "outputs": [],
   "source": [
    "import nltk\n",
    "from nltk.tokenize import word_tokenize\n",
    "from nltk.translate.ibm1 import IBMModel1\n",
    "from nltk.translate import AlignedSent, Alignment\n",
    "import markovify"
   ]
  },
  {
   "cell_type": "code",
   "execution_count": 3,
   "metadata": {},
   "outputs": [
    {
     "name": "stderr",
     "output_type": "stream",
     "text": [
      "[nltk_data] Downloading package punkt to /root/nltk_data...\n",
      "[nltk_data]   Unzipping tokenizers/punkt.zip.\n"
     ]
    },
    {
     "data": {
      "text/plain": [
       "True"
      ]
     },
     "execution_count": 3,
     "metadata": {},
     "output_type": "execute_result"
    }
   ],
   "source": [
    "nltk.download('punkt')"
   ]
  },
  {
   "cell_type": "code",
   "execution_count": 7,
   "metadata": {},
   "outputs": [],
   "source": [
    "corpus = []\n",
    "with open('../data/raw/anki/fra-eng/fra.txt', 'r', encoding='utf8') as f:\n",
    "    for line in f.readlines():\n",
    "        corpus.append(line.lower()) #TODO: Try True-casing instead of lower-casing (frequency-based winner-takes-all)"
   ]
  },
  {
   "cell_type": "code",
   "execution_count": 8,
   "metadata": {},
   "outputs": [
    {
     "data": {
      "text/plain": [
       "189114"
      ]
     },
     "execution_count": 8,
     "metadata": {},
     "output_type": "execute_result"
    }
   ],
   "source": [
    "len(corpus)"
   ]
  },
  {
   "cell_type": "code",
   "execution_count": 9,
   "metadata": {},
   "outputs": [
    {
     "name": "stdout",
     "output_type": "stream",
     "text": [
      "CPU times: user 42.9 s, sys: 81.1 ms, total: 42.9 s\n",
      "Wall time: 42.9 s\n"
     ]
    }
   ],
   "source": [
    "%%time\n",
    "en_fr = [entry.split('\\t')[:2] for entry in corpus]\n",
    "en, fr = zip(*en_fr)\n",
    "en_tokenized = [word_tokenize(sentence, language='english') for sentence in en]\n",
    "fr_tokenized = [word_tokenize(sentence, language='french') for sentence in fr]"
   ]
  },
  {
   "cell_type": "code",
   "execution_count": 10,
   "metadata": {},
   "outputs": [
    {
     "name": "stdout",
     "output_type": "stream",
     "text": [
      "CPU times: user 10.2 s, sys: 191 ms, total: 10.4 s\n",
      "Wall time: 10.4 s\n"
     ]
    }
   ],
   "source": [
    "%%time\n",
    "en_model = markovify.NewlineText('\\n'.join(en), state_size=5)\n",
    "fr_model = markovify.NewlineText('\\n'.join(fr), state_size=5)"
   ]
  },
  {
   "cell_type": "code",
   "execution_count": 13,
   "metadata": {},
   "outputs": [
    {
     "name": "stdout",
     "output_type": "stream",
     "text": [
      "i've already drunk half a bottle of wine while i was waiting for the streetcar, i witnessed a traffic accident.\n",
      "i want you to know that i won't be able to help you on monday.\n",
      "she was advised by him to go abroad while he was still young.\n",
      "if he keeps threatening you, then you should go to the dentist and have that tooth pulled out.\n",
      "i told you i don't know how to talk to kids.\n"
     ]
    }
   ],
   "source": [
    "for i in range(5):\n",
    "    print(en_model.make_sentence(tries=1000))"
   ]
  },
  {
   "cell_type": "code",
   "execution_count": 12,
   "metadata": {},
   "outputs": [
    {
     "name": "stdout",
     "output_type": "stream",
     "text": [
      "dis-moi juste que ça ne va pas être beau à voir.\n",
      "je ne me sens pas bien aujourd'hui et je préfère rester à la maison plutôt que de sortir sous la pluie.\n",
      "je peux assez bien lire le chinois mais je ne parviens pas à me rappeler l'endroit où j'ai caché mon argent.\n",
      "je sais que vous êtes occupés, mais est-ce que je peux te parler en privé ?\n",
      "dis à tom que je ne suis pas quelqu'un de patient.\n"
     ]
    }
   ],
   "source": [
    "for i in range(5):\n",
    "    print(fr_model.make_sentence(tries=1000))"
   ]
  },
  {
   "cell_type": "code",
   "execution_count": 110,
   "metadata": {},
   "outputs": [],
   "source": [
    "#TODO: https://github.com/nltk/nltk/blob/develop/nltk/lm/__init__.py"
   ]
  },
  {
   "cell_type": "code",
   "execution_count": 19,
   "metadata": {},
   "outputs": [
    {
     "name": "stdout",
     "output_type": "stream",
     "text": [
      "CPU times: user 7.78 ms, sys: 0 ns, total: 7.78 ms\n",
      "Wall time: 7.56 ms\n"
     ]
    }
   ],
   "source": [
    "%%time\n",
    "bitext = []\n",
    "for fr, en in zip(fr_tokenized[:1000], en_tokenized[:1000]):\n",
    "    bitext.append(AlignedSent(fr, en))"
   ]
  },
  {
   "cell_type": "code",
   "execution_count": 21,
   "metadata": {},
   "outputs": [
    {
     "name": "stdout",
     "output_type": "stream",
     "text": [
      "CPU times: user 223 ms, sys: 3.94 ms, total: 227 ms\n",
      "Wall time: 224 ms\n"
     ]
    }
   ],
   "source": [
    "%%time\n",
    "ibm1 = IBMModel1(bitext, 10)"
   ]
  },
  {
   "cell_type": "code",
   "execution_count": 22,
   "metadata": {},
   "outputs": [
    {
     "data": {
      "image/svg+xml": [
       "<?xml version=\"1.0\" encoding=\"UTF-8\" standalone=\"no\"?>\n",
       "<!DOCTYPE svg PUBLIC \"-//W3C//DTD SVG 1.1//EN\"\n",
       " \"http://www.w3.org/Graphics/SVG/1.1/DTD/svg11.dtd\">\n",
       "<!-- Generated by graphviz version 2.40.1 (20161225.0304)\n",
       " -->\n",
       "<!-- Title: align Pages: 1 -->\n",
       "<svg width=\"278pt\" height=\"116pt\"\n",
       " viewBox=\"0.00 0.00 278.00 116.00\" xmlns=\"http://www.w3.org/2000/svg\" xmlns:xlink=\"http://www.w3.org/1999/xlink\">\n",
       "<g id=\"graph0\" class=\"graph\" transform=\"scale(1 1) rotate(0) translate(4 112)\">\n",
       "<title>align</title>\n",
       "<polygon fill=\"#ffffff\" stroke=\"transparent\" points=\"-4,4 -4,-112 274,-112 274,4 -4,4\"/>\n",
       "<!-- je_source -->\n",
       "<g id=\"node1\" class=\"node\">\n",
       "<title>je_source</title>\n",
       "<text text-anchor=\"middle\" x=\"27\" y=\"-86.3\" font-family=\"Times,serif\" font-size=\"14.00\" fill=\"#000000\">je</text>\n",
       "</g>\n",
       "<!-- l&#39;ai_source -->\n",
       "<g id=\"node2\" class=\"node\">\n",
       "<title>l&#39;ai_source</title>\n",
       "<text text-anchor=\"middle\" x=\"99\" y=\"-86.3\" font-family=\"Times,serif\" font-size=\"14.00\" fill=\"#000000\">l&#39;ai</text>\n",
       "</g>\n",
       "<!-- je_source&#45;&#45;l&#39;ai_source -->\n",
       "<!-- i_target -->\n",
       "<g id=\"node5\" class=\"node\">\n",
       "<title>i_target</title>\n",
       "<text text-anchor=\"middle\" x=\"27\" y=\"-14.3\" font-family=\"Times,serif\" font-size=\"14.00\" fill=\"#000000\">i</text>\n",
       "</g>\n",
       "<!-- je_source&#45;&#45;i_target -->\n",
       "<g id=\"edge1\" class=\"edge\">\n",
       "<title>je_source&#45;&#45;i_target</title>\n",
       "<path fill=\"none\" stroke=\"#000000\" d=\"M27,-71.8314C27,-61 27,-47.2876 27,-36.4133\"/>\n",
       "</g>\n",
       "<!-- fait_source -->\n",
       "<g id=\"node3\" class=\"node\">\n",
       "<title>fait_source</title>\n",
       "<text text-anchor=\"middle\" x=\"171\" y=\"-86.3\" font-family=\"Times,serif\" font-size=\"14.00\" fill=\"#000000\">fait</text>\n",
       "</g>\n",
       "<!-- l&#39;ai_source&#45;&#45;fait_source -->\n",
       "<!-- did_target -->\n",
       "<g id=\"node6\" class=\"node\">\n",
       "<title>did_target</title>\n",
       "<text text-anchor=\"middle\" x=\"99\" y=\"-14.3\" font-family=\"Times,serif\" font-size=\"14.00\" fill=\"#000000\">did</text>\n",
       "</g>\n",
       "<!-- l&#39;ai_source&#45;&#45;did_target -->\n",
       "<g id=\"edge2\" class=\"edge\">\n",
       "<title>l&#39;ai_source&#45;&#45;did_target</title>\n",
       "<path fill=\"none\" stroke=\"#000000\" d=\"M99,-71.8314C99,-61 99,-47.2876 99,-36.4133\"/>\n",
       "</g>\n",
       "<!-- ._source -->\n",
       "<g id=\"node4\" class=\"node\">\n",
       "<title>._source</title>\n",
       "<text text-anchor=\"middle\" x=\"243\" y=\"-86.3\" font-family=\"Times,serif\" font-size=\"14.00\" fill=\"#000000\">.</text>\n",
       "</g>\n",
       "<!-- fait_source&#45;&#45;._source -->\n",
       "<!-- fait_source&#45;&#45;did_target -->\n",
       "<g id=\"edge3\" class=\"edge\">\n",
       "<title>fait_source&#45;&#45;did_target</title>\n",
       "<path fill=\"none\" stroke=\"#000000\" d=\"M152.8314,-71.8314C142,-61 128.2876,-47.2876 117.4133,-36.4133\"/>\n",
       "</g>\n",
       "<!-- ._target -->\n",
       "<g id=\"node8\" class=\"node\">\n",
       "<title>._target</title>\n",
       "<text text-anchor=\"middle\" x=\"243\" y=\"-14.3\" font-family=\"Times,serif\" font-size=\"14.00\" fill=\"#000000\">.</text>\n",
       "</g>\n",
       "<!-- ._source&#45;&#45;._target -->\n",
       "<g id=\"edge4\" class=\"edge\">\n",
       "<title>._source&#45;&#45;._target</title>\n",
       "<path fill=\"none\" stroke=\"#000000\" d=\"M243,-71.8314C243,-61 243,-47.2876 243,-36.4133\"/>\n",
       "</g>\n",
       "<!-- i_target&#45;&#45;did_target -->\n",
       "<!-- it_target -->\n",
       "<g id=\"node7\" class=\"node\">\n",
       "<title>it_target</title>\n",
       "<text text-anchor=\"middle\" x=\"171\" y=\"-14.3\" font-family=\"Times,serif\" font-size=\"14.00\" fill=\"#000000\">it</text>\n",
       "</g>\n",
       "<!-- did_target&#45;&#45;it_target -->\n",
       "<!-- it_target&#45;&#45;._target -->\n",
       "</g>\n",
       "</svg>\n"
      ],
      "text/plain": [
       "AlignedSent(['je', 'l'ai', 'fait', '.'], ['i', 'did', 'it', '.'], Alignment([(0, 0), (1, 1), (2, 1), (3, 3)]))"
      ]
     },
     "execution_count": 22,
     "metadata": {},
     "output_type": "execute_result"
    }
   ],
   "source": [
    "test = bitext[578]\n",
    "test"
   ]
  },
  {
   "cell_type": "code",
   "execution_count": 23,
   "metadata": {},
   "outputs": [
    {
     "data": {
      "text/plain": [
       "['je', \"l'ai\", 'fait', '.']"
      ]
     },
     "execution_count": 23,
     "metadata": {},
     "output_type": "execute_result"
    }
   ],
   "source": [
    "test.words"
   ]
  },
  {
   "cell_type": "code",
   "execution_count": 24,
   "metadata": {},
   "outputs": [
    {
     "data": {
      "text/plain": [
       "['i', 'did', 'it', '.']"
      ]
     },
     "execution_count": 24,
     "metadata": {},
     "output_type": "execute_result"
    }
   ],
   "source": [
    "test.mots"
   ]
  },
  {
   "cell_type": "code",
   "execution_count": 25,
   "metadata": {},
   "outputs": [
    {
     "data": {
      "text/plain": [
       "Alignment([(0, 0), (1, 1), (2, 1), (3, 3)])"
      ]
     },
     "execution_count": 25,
     "metadata": {},
     "output_type": "execute_result"
    }
   ],
   "source": [
    "test.alignment"
   ]
  },
  {
   "cell_type": "code",
   "execution_count": 33,
   "metadata": {},
   "outputs": [
    {
     "data": {
      "text/plain": [
       "defaultdict(<function nltk.translate.ibm1.IBMModel1.set_uniform_probabilities.<locals>.<lambda>()>,\n",
       "            {None: 1e-12,\n",
       "             'good': 0.10694902844430497,\n",
       "             'job': 0.030056176307917612,\n",
       "             '!': 1e-12})"
      ]
     },
     "execution_count": 33,
     "metadata": {},
     "output_type": "execute_result"
    }
   ],
   "source": [
    "ibm1.translation_table['bravo']"
   ]
  }
 ],
 "metadata": {
  "kernelspec": {
   "display_name": "Python 3",
   "language": "python",
   "name": "python3"
  },
  "language_info": {
   "codemirror_mode": {
    "name": "ipython",
    "version": 3
   },
   "file_extension": ".py",
   "mimetype": "text/x-python",
   "name": "python",
   "nbconvert_exporter": "python",
   "pygments_lexer": "ipython3",
   "version": "3.6.9"
  }
 },
 "nbformat": 4,
 "nbformat_minor": 2
}
