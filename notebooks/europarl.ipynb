{
 "cells": [
  {
   "cell_type": "code",
   "execution_count": 2,
   "metadata": {},
   "outputs": [
    {
     "data": {
      "text/html": [
       "<style>.container { width:100% !important; }</style>"
      ],
      "text/plain": [
       "<IPython.core.display.HTML object>"
      ]
     },
     "metadata": {},
     "output_type": "display_data"
    }
   ],
   "source": [
    "from IPython.core.display import HTML\n",
    "display(HTML(\"<style>.container { width:100% !important; }</style>\"))\n",
    "%config IPCompleter.use_jedi=False"
   ]
  },
  {
   "cell_type": "markdown",
   "metadata": {},
   "source": [
    "# Tokenizing"
   ]
  },
  {
   "cell_type": "code",
   "execution_count": 4,
   "metadata": {},
   "outputs": [
    {
     "name": "stdout",
     "output_type": "stream",
     "text": [
      "Tokenizer Version 1.1\n",
      "Language: en\n",
      "Number of threads: 20\n",
      "Tokenizer Version 1.1\n",
      "Language: fr\n",
      "Number of threads: 20\n"
     ]
    }
   ],
   "source": [
    "!../mosesdecoder/scripts/tokenizer/tokenizer.perl -l en -threads 20 < ../data/raw/europarl-v7/fr/europarl-v7.fr-en.en > ../data/processed/europarl-v7/euro.tok.en\n",
    "!../mosesdecoder/scripts/tokenizer/tokenizer.perl -l fr -threads 20 < ../data/raw/europarl-v7/fr/europarl-v7.fr-en.fr > ../data/processed/europarl-v7/euro.tok.fr"
   ]
  },
  {
   "cell_type": "markdown",
   "metadata": {},
   "source": [
    "# True casing"
   ]
  },
  {
   "cell_type": "code",
   "execution_count": 5,
   "metadata": {},
   "outputs": [],
   "source": [
    "!../mosesdecoder/scripts/recaser/train-truecaser.perl --model ../models/truecaser/euro.model.en --corpus ../data/processed/europarl-v7/euro.tok.en\n",
    "!../mosesdecoder/scripts/recaser/train-truecaser.perl --model ../models/truecaser/euro.model.fr --corpus ../data/processed/europarl-v7/euro.tok.fr"
   ]
  },
  {
   "cell_type": "code",
   "execution_count": 6,
   "metadata": {},
   "outputs": [],
   "source": [
    "!../mosesdecoder/scripts/recaser/truecase.perl --model ../models/truecaser/euro.model.en < ../data/processed/europarl-v7/euro.tok.en > ../data/processed/europarl-v7/euro.true.en\n",
    "!../mosesdecoder/scripts/recaser/truecase.perl --model ../models/truecaser/euro.model.fr < ../data/processed/europarl-v7/euro.tok.fr > ../data/processed/europarl-v7/euro.true.fr"
   ]
  },
  {
   "cell_type": "markdown",
   "metadata": {},
   "source": [
    "# Cleaning"
   ]
  },
  {
   "cell_type": "code",
   "execution_count": 7,
   "metadata": {},
   "outputs": [
    {
     "name": "stdout",
     "output_type": "stream",
     "text": [
      "clean-corpus.perl: processing ../data/processed/europarl-v7/euro.true.fr & .en to ../data/processed/europarl-v7/euro.clean, cutoff 1-100, ratio 9\n",
      "..........(100000)..........(200000)..........(300000)..........(400000)..........(500000)..........(600000)..........(700000)..........(800000)..........(900000)..........(1000000)..........(1100000)..........(1200000)..........(1300000)..........(1400000)..........(1500000)..........(1600000)..........(1700000)..........(1800000)..........(1900000)..........(2000000)\n",
      "Input sentences: 2007723  Output sentences:  1991187\n"
     ]
    }
   ],
   "source": [
    "!../mosesdecoder/scripts/training/clean-corpus-n.perl ../data/processed/europarl-v7/euro.true fr en ../data/processed/europarl-v7/euro.clean 1 100"
   ]
  },
  {
   "cell_type": "markdown",
   "metadata": {},
   "source": [
    "# Parsing"
   ]
  },
  {
   "cell_type": "code",
   "execution_count": null,
   "metadata": {},
   "outputs": [],
   "source": [
    "java -jar ../berkeleyparser/BerkeleyParser-1.6.jar -gr ../berkeleyparser/eng_sm6.gr -inputFile ../data/processed/europarl-v7/euro.clean.en | ../mosesdecoder/scripts/training/wrappers/berkeleyparsed2mosesxml.perl > ../data/processed/europarl-v7/euro.syntax.en"
   ]
  }
 ],
 "metadata": {
  "kernelspec": {
   "display_name": "Python 3",
   "language": "python",
   "name": "python3"
  },
  "language_info": {
   "codemirror_mode": {
    "name": "ipython",
    "version": 3
   },
   "file_extension": ".py",
   "mimetype": "text/x-python",
   "name": "python",
   "nbconvert_exporter": "python",
   "pygments_lexer": "ipython3",
   "version": "3.6.9"
  }
 },
 "nbformat": 4,
 "nbformat_minor": 2
}
