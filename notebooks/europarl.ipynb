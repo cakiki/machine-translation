{
 "cells": [
  {
   "cell_type": "code",
   "execution_count": 1,
   "metadata": {},
   "outputs": [
    {
     "data": {
      "text/html": [
       "<style>.container { width:100% !important; }</style>"
      ],
      "text/plain": [
       "<IPython.core.display.HTML object>"
      ]
     },
     "metadata": {},
     "output_type": "display_data"
    }
   ],
   "source": [
    "from IPython.core.display import HTML\n",
    "display(HTML(\"<style>.container { width:100% !important; }</style>\"))\n",
    "%config IPCompleter.use_jedi=False"
   ]
  },
  {
   "cell_type": "markdown",
   "metadata": {},
   "source": [
    "# Tokenizing"
   ]
  },
  {
   "cell_type": "code",
   "execution_count": 4,
   "metadata": {},
   "outputs": [
    {
     "name": "stdout",
     "output_type": "stream",
     "text": [
      "Tokenizer Version 1.1\n",
      "Language: en\n",
      "Number of threads: 20\n",
      "Tokenizer Version 1.1\n",
      "Language: fr\n",
      "Number of threads: 20\n"
     ]
    }
   ],
   "source": [
    "!../mosesdecoder/scripts/tokenizer/tokenizer.perl -l en -threads 20 < ../data/raw/europarl-v7/fr/europarl-v7.fr-en.en > ../data/processed/europarl-v7/euro.tok.en\n",
    "!../mosesdecoder/scripts/tokenizer/tokenizer.perl -l fr -threads 20 < ../data/raw/europarl-v7/fr/europarl-v7.fr-en.fr > ../data/processed/europarl-v7/euro.tok.fr"
   ]
  },
  {
   "cell_type": "markdown",
   "metadata": {},
   "source": [
    "# True casing"
   ]
  },
  {
   "cell_type": "code",
   "execution_count": 5,
   "metadata": {},
   "outputs": [],
   "source": [
    "!../mosesdecoder/scripts/recaser/train-truecaser.perl --model ../models/truecaser/euro.model.en --corpus ../data/processed/europarl-v7/euro.tok.en\n",
    "!../mosesdecoder/scripts/recaser/train-truecaser.perl --model ../models/truecaser/euro.model.fr --corpus ../data/processed/europarl-v7/euro.tok.fr"
   ]
  },
  {
   "cell_type": "code",
   "execution_count": 6,
   "metadata": {},
   "outputs": [],
   "source": [
    "!../mosesdecoder/scripts/recaser/truecase.perl --model ../models/truecaser/euro.model.en < ../data/processed/europarl-v7/euro.tok.en > ../data/processed/europarl-v7/euro.true.en\n",
    "!../mosesdecoder/scripts/recaser/truecase.perl --model ../models/truecaser/euro.model.fr < ../data/processed/europarl-v7/euro.tok.fr > ../data/processed/europarl-v7/euro.true.fr"
   ]
  },
  {
   "cell_type": "markdown",
   "metadata": {},
   "source": [
    "# Cleaning"
   ]
  },
  {
   "cell_type": "code",
   "execution_count": 6,
   "metadata": {},
   "outputs": [
    {
     "name": "stdout",
     "output_type": "stream",
     "text": [
      "clean-corpus.perl: processing ../data/processed/europarl-v7/euro.true.fr & .en to ../data/processed/europarl-v7/euro.clean, cutoff 1-20, ratio 9\n",
      "..........(100000)..........(200000)..........(300000)..........(400000)..........(500000)..........(600000)..........(700000)..........(800000)..........(900000)..........(1000000)..........(1100000)..........(1200000)..........(1300000)..........(1400000)..........(1500000)..........(1600000)..........(1700000)..........(1800000)..........(1900000)..........(2000000)\n",
      "Input sentences: 2007723  Output sentences:  604809\n"
     ]
    }
   ],
   "source": [
    "!../mosesdecoder/scripts/training/clean-corpus-n.perl ../data/processed/europarl-v7/euro.true fr en ../data/processed/europarl-v7/euro.clean 1 20"
   ]
  },
  {
   "cell_type": "markdown",
   "metadata": {},
   "source": [
    "# Language Modeling"
   ]
  },
  {
   "cell_type": "code",
   "execution_count": 2,
   "metadata": {},
   "outputs": [
    {
     "name": "stdout",
     "output_type": "stream",
     "text": [
      "=== 1/5 Counting and sorting n-grams ===\n",
      "Reading /tf/data/processed/europarl-v7/euro.true.en\n",
      "----5---10---15---20---25---30---35---40---45---50---55---60---65---70---75---80---85---90---95--100\n",
      "tcmalloc: large alloc 6894206976 bytes == 0x55e6050c0000 @ \n",
      "tcmalloc: large alloc 36769071104 bytes == 0x55e79ff94000 @ \n",
      "****************************************************************************************************\n",
      "Unigram tokens 55732029 types 128090\n",
      "=== 2/5 Calculating and sorting adjusted counts ===\n",
      "Chain sizes: 1:1537080 2:2688424960 3:5040796672 4:8065274880 5:11761859584 6:16130549760\n",
      "tcmalloc: large alloc 16130555904 bytes == 0x55e6050c0000 @ \n",
      "tcmalloc: large alloc 2688425984 bytes == 0x55e9c698c000 @ \n",
      "tcmalloc: large alloc 5040799744 bytes == 0x55ea66d6e000 @ \n",
      "tcmalloc: large alloc 8065277952 bytes == 0x55eb934b6000 @ \n",
      "tcmalloc: large alloc 11761860608 bytes == 0x55f0321f8000 @ \n",
      "Statistics:\n",
      "1 128090 D1=0.644989 D2=1.03315 D3+=1.36974\n",
      "2 3093712 D1=0.695945 D2=1.0676 D3+=1.39135\n",
      "3 14023409 D1=0.783995 D2=1.11403 D3+=1.36805\n",
      "4 28299638 D1=0.862501 D2=1.17796 D3+=1.38016\n",
      "5 38289405 D1=0.919453 D2=1.24897 D3+=1.40128\n",
      "6 43087716 D1=0.940052 D2=1.27347 D3+=1.36353\n",
      "Memory estimate for binary LM:\n",
      "type      MB\n",
      "probing 2658 assuming -p 1.5\n",
      "probing 3138 assuming -r models -p 1.5\n",
      "trie    1304 without quantization\n",
      "trie     717 assuming -q 8 -b 8 quantization \n",
      "trie    1121 assuming -a 22 array pointer compression\n",
      "trie     534 assuming -a 22 -q 8 -b 8 array pointer compression and quantization\n",
      "=== 3/5 Calculating and sorting initial probabilities ===\n",
      "Chain sizes: 1:1537080 2:49499392 3:280468180 4:679191312 5:1072103340 6:1378806912\n",
      "----5---10---15---20---25---30---35---40---45---50---55---60---65---70---75---80---85---90---95--100\n",
      "####################################################################################################\n",
      "=== 4/5 Calculating and writing order-interpolated probabilities ===\n",
      "Chain sizes: 1:1537080 2:49499392 3:280468180 4:679191312 5:1072103340 6:1378806912\n",
      "----5---10---15---20---25---30---35---40---45---50---55---60---65---70---75---80---85---90---95--100\n",
      "####################################################################################################\n",
      "=== 5/5 Writing ARPA model ===\n",
      "Name:lmplz\tVmPeak:54630824 kB\tVmRSS:12554820 kB\tRSSMax:12555856 kB\tuser:142.318\tsys:21.36\tCPU:163.678\treal:101.392\n",
      "=== 1/5 Counting and sorting n-grams ===\n",
      "Reading /tf/data/processed/europarl-v7/euro.true.fr\n",
      "----5---10---15---20---25---30---35---40---45---50---55---60---65---70---75---80---85---90---95--100\n",
      "tcmalloc: large alloc 6894206976 bytes == 0x5584f5ef4000 @ \n",
      "tcmalloc: large alloc 36769071104 bytes == 0x558690dc8000 @ \n",
      "****************************************************************************************************\n",
      "Unigram tokens 61890029 types 148086\n",
      "=== 2/5 Calculating and sorting adjusted counts ===\n",
      "Chain sizes: 1:1777032 2:2688409856 3:5040768512 4:8065230336 5:11761794048 6:16130460672\n",
      "tcmalloc: large alloc 16130465792 bytes == 0x5584f5ef4000 @ \n",
      "tcmalloc: large alloc 2688417792 bytes == 0x5588b77e4000 @ \n",
      "tcmalloc: large alloc 5040775168 bytes == 0x558957bc4000 @ \n",
      "tcmalloc: large alloc 8065236992 bytes == 0x558a84306000 @ \n",
      "tcmalloc: large alloc 11761795072 bytes == 0x558f2302c000 @ \n",
      "Statistics:\n",
      "1 148086 D1=0.625562 D2=1.03129 D3+=1.36763\n",
      "2 3084705 D1=0.696214 D2=1.07338 D3+=1.43855\n",
      "3 13547245 D1=0.780247 D2=1.12559 D3+=1.41706\n",
      "4 28439513 D1=0.855248 D2=1.17888 D3+=1.40529\n",
      "5 40100491 D1=0.911356 D2=1.23838 D3+=1.41778\n",
      "6 46460027 D1=0.929002 D2=1.23581 D3+=1.32649\n",
      "Memory estimate for binary LM:\n",
      "type      MB\n",
      "probing 2750 assuming -p 1.5\n",
      "probing 3238 assuming -r models -p 1.5\n",
      "trie    1358 without quantization\n",
      "trie     754 assuming -q 8 -b 8 quantization \n",
      "trie    1172 assuming -a 22 array pointer compression\n",
      "trie     568 assuming -a 22 -q 8 -b 8 array pointer compression and quantization\n",
      "=== 3/5 Calculating and sorting initial probabilities ===\n",
      "Chain sizes: 1:1777032 2:49355280 3:270944900 4:682548312 5:1122813748 6:1486720864\n",
      "----5---10---15---20---25---30---35---40---45---50---55---60---65---70---75---80---85---90---95--100\n",
      "####################################################################################################\n",
      "=== 4/5 Calculating and writing order-interpolated probabilities ===\n",
      "Chain sizes: 1:1777032 2:49355280 3:270944900 4:682548312 5:1122813748 6:1486720864\n",
      "----5---10---15---20---25---30---35---40---45---50---55---60---65---70---75---80---85---90---95--100\n",
      "####################################################################################################\n",
      "=== 5/5 Writing ARPA model ===\n",
      "Name:lmplz\tVmPeak:54630760 kB\tVmRSS:12797592 kB\tRSSMax:12799000 kB\tuser:151.414\tsys:21.2629\tCPU:172.677\treal:108.476\n",
      "CPU times: user 4.84 s, sys: 994 ms, total: 5.83 s\n",
      "Wall time: 3min 31s\n"
     ]
    }
   ],
   "source": [
    "%%time\n",
    "!../mosesdecoder/bin/lmplz -o 6 -S 65% < ../data/processed/europarl-v7/euro.true.en > ../models/lm/euro.en.arpa\n",
    "!../mosesdecoder/bin/lmplz -o 6 -S 65% < ../data/processed/europarl-v7/euro.true.fr > ../models/lm/euro.fr.arpa"
   ]
  },
  {
   "cell_type": "code",
   "execution_count": 3,
   "metadata": {},
   "outputs": [
    {
     "name": "stdout",
     "output_type": "stream",
     "text": [
      "Reading ../models/lm/euro.en.arpa\n",
      "----5---10---15---20---25---30---35---40---45---50---55---60---65---70---75---80---85---90---95--100\n",
      "****************************************************************************************************\n",
      "SUCCESS\n",
      "Reading ../models/lm/euro.fr.arpa\n",
      "----5---10---15---20---25---30---35---40---45---50---55---60---65---70---75---80---85---90---95--100\n",
      "****************************************************************************************************\n",
      "SUCCESS\n"
     ]
    }
   ],
   "source": [
    "!../mosesdecoder/bin/build_binary ../models/lm/euro.en.arpa ../models/lm/euro.en.blm\n",
    "!../mosesdecoder/bin/build_binary ../models/lm/euro.fr.arpa ../models/lm/euro.fr.blm"
   ]
  },
  {
   "cell_type": "markdown",
   "metadata": {},
   "source": [
    "# Parsing"
   ]
  },
  {
   "cell_type": "code",
   "execution_count": 7,
   "metadata": {},
   "outputs": [
    {
     "name": "stdout",
     "output_type": "stream",
     "text": [
      "Warning: no symbol can generate the span from 0 to 6.\n",
      "The score is -Infinity and the state is supposed to be ROOT\n",
      "The insideScores are [0.018813411407087408] and the outsideScores are [1.0]\n",
      "The maxcScore is -Infinity\n",
      "^C\n",
      "CPU times: user 8.84 s, sys: 1.86 s, total: 10.7 s\n",
      "Wall time: 6min 38s\n"
     ]
    }
   ],
   "source": [
    "%%time\n",
    "!java -jar ../berkeleyparser/BerkeleyParser-1.6.jar -gr ../berkeleyparser/eng_sm6.gr -inputFile ../data/processed/europarl-v7/euro.clean.en | ../mosesdecoder/scripts/training/wrappers/berkeleyparsed2mosesxml.perl > ../data/processed/europarl-v7/euro.syntax.en"
   ]
  }
 ],
 "metadata": {
  "kernelspec": {
   "display_name": "Python 3",
   "language": "python",
   "name": "python3"
  },
  "language_info": {
   "codemirror_mode": {
    "name": "ipython",
    "version": 3
   },
   "file_extension": ".py",
   "mimetype": "text/x-python",
   "name": "python",
   "nbconvert_exporter": "python",
   "pygments_lexer": "ipython3",
   "version": "3.6.9"
  }
 },
 "nbformat": 4,
 "nbformat_minor": 2
}
